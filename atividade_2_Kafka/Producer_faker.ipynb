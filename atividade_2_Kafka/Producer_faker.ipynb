{
 "cells": [
  {
   "cell_type": "markdown",
   "id": "291e31fe",
   "metadata": {},
   "source": [
    "## O tópico s7projeto com duas partições foi criado no terminal a partir do segundo comando -> ./kafka-commands.sh create s7projeto 2"
   ]
  },
  {
   "cell_type": "code",
   "execution_count": 5,
   "id": "5c4525f5",
   "metadata": {},
   "outputs": [],
   "source": [
    "from kafka import KafkaProducer\n",
    "from faker import Faker\n",
    "import json\n",
    "import time\n",
    "\n",
    "fake = Faker()\n",
    "\n",
    "#Função para criar dados (fake)\n",
    "def get_customer():\n",
    "    return {\n",
    "        'nome': fake.name(),\n",
    "        'profissao': fake.job(),\n",
    "        'endereco': fake.address(),\n",
    "        'nascimento': fake.year()\n",
    "    }\n",
    "\n",
    "SERVER = 'douglas.branco-broker'\n",
    "PORT = '29092'\n",
    "TOPIC = 's7projeto'\n",
    "SERVER_INFO = SERVER+':'+PORT\n",
    "\n",
    "producer = KafkaProducer(bootstrap_servers=[SERVER_INFO],\n",
    "                         value_serializer=lambda x: json.dumps(x).encode('utf-8'))"
   ]
  },
  {
   "cell_type": "code",
   "execution_count": 4,
   "id": "bbb15c87",
   "metadata": {},
   "outputs": [
    {
     "name": "stdout",
     "output_type": "stream",
     "text": [
      "{'nome': 'Teresa Steele', 'profissao': 'Research scientist (life sciences)', 'endereco': '623 Edward Knolls\\nRoblesfort, FL 64699', 'nascimento': '2018'}\n",
      "{'nome': 'Patrick Parsons', 'profissao': 'Private music teacher', 'endereco': '3946 Green Rue Apt. 616\\nLake Megan, OR 02362', 'nascimento': '1974'}\n",
      "{'nome': 'Michelle Davis', 'profissao': 'Medical illustrator', 'endereco': '406 Wilson Circles\\nPort John, MO 90855', 'nascimento': '2015'}\n",
      "{'nome': 'Whitney Wilson', 'profissao': 'Systems analyst', 'endereco': '51685 Brooke Pass Suite 301\\nEast Timothy, MN 14597', 'nascimento': '1982'}\n",
      "{'nome': 'Jacqueline Hayes', 'profissao': 'Geographical information systems officer', 'endereco': '1060 Smith Views Suite 424\\nEast Andrewborough, MD 39908', 'nascimento': '1975'}\n",
      "{'nome': 'Elizabeth Parsons', 'profissao': 'Restaurant manager', 'endereco': '590 Bruce Locks Apt. 356\\nLake Kevinchester, TN 94957', 'nascimento': '2013'}\n",
      "{'nome': 'Amy Burton', 'profissao': 'Equality and diversity officer', 'endereco': '228 Suzanne Streets\\nMiguelton, HI 89027', 'nascimento': '2017'}\n",
      "{'nome': 'Miss Pamela Sutton DVM', 'profissao': 'Counselling psychologist', 'endereco': '725 Young Gardens\\nNewmanburgh, AL 54953', 'nascimento': '2016'}\n",
      "{'nome': 'Jason Hamilton', 'profissao': 'Location manager', 'endereco': '805 Katherine Burg Suite 901\\nWest Thomas, MI 04567', 'nascimento': '1974'}\n",
      "{'nome': 'Jessica Lee', 'profissao': 'Further education lecturer', 'endereco': '670 Tyler Trail\\nCastilloburgh, NC 73845', 'nascimento': '1979'}\n",
      "{'nome': 'Janet Buchanan', 'profissao': 'Drilling engineer', 'endereco': '855 Hansen Mission Suite 345\\nLake Janice, NE 65466', 'nascimento': '1979'}\n",
      "{'nome': 'William Griffin', 'profissao': 'Psychologist, educational', 'endereco': '3078 Brenda Branch\\nEast Angela, MN 34208', 'nascimento': '1989'}\n",
      "{'nome': 'Danny Mckenzie', 'profissao': 'Proofreader', 'endereco': 'USNS Ferguson\\nFPO AP 47471', 'nascimento': '2004'}\n",
      "{'nome': 'John Todd', 'profissao': 'Materials engineer', 'endereco': '30642 Barton Shore\\nAndersonmouth, AL 74768', 'nascimento': '2015'}\n",
      "{'nome': 'Kelly Duran MD', 'profissao': 'Lobbyist', 'endereco': '64317 Jessica Island Suite 661\\nDavidview, WI 47033', 'nascimento': '2013'}\n",
      "{'nome': 'Kristen Lopez', 'profissao': 'Dealer', 'endereco': '482 Miranda Extension Suite 014\\nBrownland, AL 13163', 'nascimento': '1989'}\n",
      "{'nome': 'Kelly Turner', 'profissao': 'Solicitor', 'endereco': '34509 Carr Brooks Apt. 509\\nEricview, WI 98372', 'nascimento': '2011'}\n",
      "{'nome': 'John Miller DDS', 'profissao': 'Sales executive', 'endereco': 'USCGC Flores\\nFPO AA 77629', 'nascimento': '2018'}\n",
      "{'nome': 'Katherine Atkins', 'profissao': 'Research scientist (medical)', 'endereco': '8765 Anthony Skyway\\nMichelleview, MS 29937', 'nascimento': '1971'}\n",
      "{'nome': 'Jeffrey Wright', 'profissao': 'Therapist, speech and language', 'endereco': '5098 Albert Coves\\nTeresamouth, DE 42595', 'nascimento': '2014'}\n",
      "{'nome': 'Tiffany Pacheco', 'profissao': 'Scientist, water quality', 'endereco': '3862 Alexander Ranch\\nCollinsshire, PA 95181', 'nascimento': '2021'}\n",
      "{'nome': 'Beth Cervantes', 'profissao': 'Museum/gallery exhibitions officer', 'endereco': '340 Corey Roads\\nWest Kristie, NV 58745', 'nascimento': '1998'}\n",
      "{'nome': 'Olivia Arias', 'profissao': 'Television floor manager', 'endereco': '9900 James Bypass Suite 897\\nHollandstad, MI 16620', 'nascimento': '2014'}\n",
      "{'nome': 'Ryan Griffin', 'profissao': 'Furniture conservator/restorer', 'endereco': '57866 Samantha Isle Suite 251\\nRobertsonborough, SD 35980', 'nascimento': '1984'}\n",
      "{'nome': 'Tara Nguyen', 'profissao': 'Arts administrator', 'endereco': '86536 Elizabeth Inlet\\nSmithshire, PA 43868', 'nascimento': '1982'}\n",
      "{'nome': 'Tracy Thomas', 'profissao': 'Charity fundraiser', 'endereco': '09411 Douglas Divide Apt. 762\\nRiveramouth, WY 60733', 'nascimento': '1976'}\n",
      "{'nome': 'Brent Ramos', 'profissao': 'Film/video editor', 'endereco': '9481 Michael Hills Suite 429\\nLisaview, IN 38419', 'nascimento': '2001'}\n",
      "{'nome': 'Penny Miller', 'profissao': 'Paramedic', 'endereco': '2975 Santana Way\\nNew Johnside, TN 69413', 'nascimento': '1993'}\n",
      "{'nome': 'Ryan Gomez', 'profissao': 'Cytogeneticist', 'endereco': '325 Richard Orchard\\nWest Arthurbury, OH 25567', 'nascimento': '2000'}\n",
      "{'nome': 'Maurice Porter', 'profissao': 'Rural practice surveyor', 'endereco': '626 William Points Suite 018\\nMichelleburgh, CO 12367', 'nascimento': '2022'}\n",
      "{'nome': 'Luke Cummings', 'profissao': 'Manufacturing systems engineer', 'endereco': '703 Adams Crossing\\nGravesborough, DE 96803', 'nascimento': '2001'}\n",
      "{'nome': 'Rebecca Ramos', 'profissao': 'Recruitment consultant', 'endereco': '53801 Tara Passage\\nAndreville, KY 51403', 'nascimento': '1991'}\n",
      "{'nome': 'Erik Gregory', 'profissao': 'Mudlogger', 'endereco': '722 Ian Orchard\\nRobertshaven, ID 89085', 'nascimento': '1992'}\n",
      "{'nome': 'Jeanette Morgan', 'profissao': 'Travel agency manager', 'endereco': '87083 Amanda Turnpike\\nNorth Anthony, ME 38208', 'nascimento': '1972'}\n",
      "{'nome': 'Carlos Bradley', 'profissao': 'Software engineer', 'endereco': '3092 Luis Summit Suite 051\\nNew Julia, MA 28722', 'nascimento': '2013'}\n",
      "{'nome': 'Amy Gomez', 'profissao': 'Photographer', 'endereco': '634 Ellis Heights\\nLaurenville, OH 95480', 'nascimento': '2021'}\n",
      "{'nome': 'Anthony Nunez', 'profissao': 'Media buyer', 'endereco': '2740 Allen Divide Apt. 332\\nPort Connor, TX 98702', 'nascimento': '2012'}\n",
      "{'nome': 'Harold Vargas', 'profissao': 'Television production assistant', 'endereco': '438 Wesley Lakes\\nBenitezview, NV 50370', 'nascimento': '1995'}\n",
      "{'nome': 'Ashley Mullins', 'profissao': 'Sub', 'endereco': 'Unit 1763 Box 4001\\nDPO AE 21569', 'nascimento': '1996'}\n",
      "{'nome': 'Tristan Reynolds', 'profissao': 'Higher education careers adviser', 'endereco': '5105 Matthew Hollow Apt. 223\\nNataliebury, MD 36021', 'nascimento': '2002'}\n",
      "{'nome': 'Kelly Ortiz', 'profissao': 'Environmental education officer', 'endereco': '86508 Joel Port\\nJennafort, AR 04308', 'nascimento': '2015'}\n",
      "{'nome': 'Tracy Rodriguez', 'profissao': 'Health service manager', 'endereco': '129 Sherman Creek\\nColeport, FL 24097', 'nascimento': '1985'}\n",
      "{'nome': 'Alex Estes', 'profissao': 'Public house manager', 'endereco': '1324 Jennifer Loaf Suite 063\\nNorth Evelyn, AR 36023', 'nascimento': '1981'}\n"
     ]
    },
    {
     "ename": "KeyboardInterrupt",
     "evalue": "",
     "output_type": "error",
     "traceback": [
      "\u001b[0;31m---------------------------------------------------------------------------\u001b[0m",
      "\u001b[0;31mKeyboardInterrupt\u001b[0m                         Traceback (most recent call last)",
      "\u001b[0;32m/tmp/ipykernel_38/2873505541.py\u001b[0m in \u001b[0;36m<module>\u001b[0;34m\u001b[0m\n\u001b[1;32m      3\u001b[0m     \u001b[0mprint\u001b[0m\u001b[0;34m(\u001b[0m\u001b[0mmsg\u001b[0m\u001b[0;34m)\u001b[0m\u001b[0;34m\u001b[0m\u001b[0;34m\u001b[0m\u001b[0m\n\u001b[1;32m      4\u001b[0m     \u001b[0mproducer\u001b[0m\u001b[0;34m.\u001b[0m\u001b[0msend\u001b[0m\u001b[0;34m(\u001b[0m\u001b[0mTOPIC\u001b[0m\u001b[0;34m,\u001b[0m \u001b[0mmsg\u001b[0m\u001b[0;34m)\u001b[0m\u001b[0;34m\u001b[0m\u001b[0;34m\u001b[0m\u001b[0m\n\u001b[0;32m----> 5\u001b[0;31m     \u001b[0mtime\u001b[0m\u001b[0;34m.\u001b[0m\u001b[0msleep\u001b[0m\u001b[0;34m(\u001b[0m\u001b[0;36m1\u001b[0m\u001b[0;34m)\u001b[0m\u001b[0;34m\u001b[0m\u001b[0;34m\u001b[0m\u001b[0m\n\u001b[0m",
      "\u001b[0;31mKeyboardInterrupt\u001b[0m: "
     ]
    }
   ],
   "source": [
    "while True:\n",
    "    msg = get_customer()\n",
    "    print(msg)\n",
    "    producer.send(TOPIC, msg)\n",
    "    time.sleep(1)"
   ]
  },
  {
   "cell_type": "code",
   "execution_count": null,
   "id": "12689819",
   "metadata": {},
   "outputs": [],
   "source": []
  }
 ],
 "metadata": {
  "kernelspec": {
   "display_name": "Python 3 (ipykernel)",
   "language": "python",
   "name": "python3"
  },
  "language_info": {
   "codemirror_mode": {
    "name": "ipython",
    "version": 3
   },
   "file_extension": ".py",
   "mimetype": "text/x-python",
   "name": "python",
   "nbconvert_exporter": "python",
   "pygments_lexer": "ipython3",
   "version": "3.7.3"
  }
 },
 "nbformat": 4,
 "nbformat_minor": 5
}
