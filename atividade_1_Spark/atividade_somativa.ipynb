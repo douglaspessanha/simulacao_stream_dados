{
 "cells": [
  {
   "cell_type": "markdown",
   "metadata": {},
   "source": [
    "# Atividade Somativa 1\n",
    "## Big Data Stream\n",
    "### Douglas Branco Pessanha Lopes"
   ]
  },
  {
   "cell_type": "markdown",
   "metadata": {},
   "source": [
    "# Projeto modernização\n",
    "\n",
    "\n",
    "\n",
    "Olá caros alunos, como uma das formar de avaliar o conhecimento obtido até este momento, iremos trabalhar com um projeto de modernização de uma demanda fictícia do ministério da saúde, o enunciado a seguir fornece os detalhes.\n",
    "\n",
    "\n",
    "O ministério da saúde está com uma emergência, e necessita que seja tomada as medidas adequadas em tempo hábil para combater a COVID-19. Para tal demanda, o ministério público abriu um edital emergencial para contratar um profissional que seja responsável por migrar o sistema tradicional de Big Data que está processando em lotes (batches) para processamento contínuo, ou seja, Big Data Stream.\n",
    "\n",
    "A modernização será feita com base nos exercícios da semana 3 com pequenas mudanças no enunciado, porém foi mantido o mesmo número da questão. É necessário modernizar a coleta de sete informações, sendo que três delas já foram atualizadas para Big Data Stream por outra pessoa que também foi contratada para cumprir a demanda e as outras 4 informações estão sob sua responsabilidade. Você pode usar as informações resolvidas como exemplo para a resolução dos outros exercícios. A baixo segue a lista das informações solicitadas para a modernização.\n",
    "\n",
    "\n",
    "\n",
    "Considerando o dataset detalhado a seguir, extraia o conjunto de informações solicitadas.\n",
    "\n",
    "# Dataset dados de COVID no Brasil\n",
    "\n",
    "Os dados utilizados neste trabalho são os mesmos do dataset da semana 3, porém é simulado uma stream de dados. O dataset é enviado para um socket de rede na porta 4545. Cada linha do dataset é enviado para o socket a cada 100 milissegundos.\n",
    "\n",
    " - Para alimentar a stream de dados execute no terminal:\n",
    "     - cd ~/BigDataStream/apache_spark/Semana_4\n",
    "     - ./alimenta_stream.sh projeto (mantenha o comando executando)\n",
    " - Dados relativos a pacientes que realizaram exames de Covid19 no Brasil\n",
    " - ~1k de instâncias\n",
    " \n",
    "| # | Nome do campo | Descrição |\n",
    "| --- | --- | --- |\n",
    "| 0 | id | identificador |\n",
    "|1 | dataNotificacao | Data da notificação |\n",
    "|2 | dataInicioSintomas | Data do inicio dos sintomas |\n",
    "|3 | dataNascimento | Data de nascimento |\n",
    "|4 | sintomas | Sintomas do paciente |\n",
    "|5 | profissionalSaude | Relacionado a profissional de saúde |\n",
    "|6 | cbo | Ocupação |\n",
    "|7 | condicoes | Condições do paciente |\n",
    "|8 | estadoTeste | Estado do teste |\n",
    "|9 | dataTeste | Data do teste |\n",
    "|10 | tipoTeste | Tipo de teste realizado |\n",
    "|11 | resultadoTeste | Resultado do Teste |\n",
    "|12 | paisOrigem | Pais de Origem do paciente |\n",
    "|13 | sexo | Sexo do paciente |\n",
    "|14 | bairro | Bairro do paciente |\n",
    "|15 | estado | Estado do paciente |\n",
    "|16 | estadoIBGE | Estado do paciente IBGE |\n",
    "|17 | municipio | Municipio do paciente |\n",
    "|18 | municipioIBGE | Municipio do paciente |\n",
    "|19 | cep | CEP |\n",
    "|20 | origem | Origem do paciente |\n",
    "|21 | cnes | Código da unidade de saúde |\n",
    "|22 | estadoNotificacao | Estado da notificação |\n",
    "|23 | estadoNotificacaoIBGE | Estado da notificação IBGE |\n",
    "|24 | municipioNotificacao | Município da notificação |\n",
    "|25 | municipioNotificacaoIBGE | Município da notificação IBGE |\n",
    "|26 | numeroNotificacao | Número da notificação |\n",
    "|27 | excluido | ID de exclusão |\n",
    "|28 | validado | Local validação |\n",
    "|29 | idade | Idade do paciente |\n",
    "|30 | dataEncerramento | Data do encerramento da avaliação do paciente |\n",
    "|31 | evolucaoCaso | Evolução do caso do paciente |\n",
    "|32 | classificacaoFinal | Avaliação final do caso |\n",
    "\n",
    "| # | Informações a serem extraídas: |\n",
    "| --- | --- |\n",
    "| 1. | <span style=\"color:red\">Quantidade de pacientes positivos para corona virus no último minuto e atualização a cada 30 segundos (resultadoTeste)</span> |\n",
    "| 3. | <span style=\"color:red\">Quantidade de pacientes de acordo com o sexo e o resultado do teste nos últimos 50 segudnos e atualização a cada 20 segundos (resultadoTeste)</span> |\n",
    "| 4. | Sintomas mais comuns para casos positivos para corona virus no último minuto e atualização a cada 30 segundos |\n",
    "| 6. | Quantidade de casos positivos no Paraná nos últimos 40 segudnos e atualização a cada 20 segundos |\n",
    "| 15. | Idade das mulheres positivas para covid |\n",
    "| 16. | <span style=\"color:red\">Município do Paraná com a maior quantidade de mulheres positivos para covid no último minuto e atualização a cada 20 segundos </span> |\n",
    "| 17. | Dia da semana com a maior quantidade de testes realizados nos últimos dois minutos e atualização a cada 40 segundos |"
   ]
  },
  {
   "cell_type": "code",
   "execution_count": null,
   "metadata": {},
   "outputs": [],
   "source": [
    "from pyspark import SparkContext #, SparkConf\n",
    "from pyspark.streaming import StreamingContext\n",
    "\n",
    "\n",
    "sc = SparkContext(\"local[2]\", \"NetworkWordCount\")\n",
    "sc.setLogLevel(\"ERROR\")\n",
    "\n",
    "ssc = StreamingContext(sc, 10)\n",
    "ssc.checkpoint(\"/tmp/checkpoint\")\n",
    "\n",
    "DStream = ssc.socketTextStream(\"localhost\", 4545)"
   ]
  },
  {
   "cell_type": "code",
   "execution_count": null,
   "metadata": {},
   "outputs": [],
   "source": [
    "#Informação 1. Quantidade de pacientes positivos para corona virus no último minuto e atualização a cada 30 segundos (resultadoTeste)\n",
    "result = DStream.filter(lambda linha: linha.split(';')[11]=='Positivo')\\\n",
    "            .countByWindow(60, 30)"
   ]
  },
  {
   "cell_type": "code",
   "execution_count": null,
   "metadata": {},
   "outputs": [],
   "source": [
    "#Informação 3. Quantidade de pacientes de acordo com o sexo e o resultado do teste nos últimos 50 segudnos\n",
    "#e atualização a cada 20 segundos (resultadoTeste)\n",
    "result = DStream.map(lambda linha: [(linha.split(';')[11], linha.split(';')[13]), 1])\\\n",
    "            .reduceByKeyAndWindow(lambda valor1, valor2: valor1+valor2, 50, 20)"
   ]
  },
  {
   "cell_type": "code",
   "execution_count": null,
   "metadata": {},
   "outputs": [],
   "source": [
    "#Informação 4. Sintomas mais comuns para casos positivos para corona virus no último minuto e atualização a cada 30 segundos\n",
    "result = DStream.map(lambda linha: [(linha.split(';')[11], linha.split(';')[13]), 1])\\\n",
    " .reduceByKeyAndWindow(lambda valor1, valor2: valor1+valor2, 60, 30)\\"
   ]
  },
  {
   "cell_type": "code",
   "execution_count": null,
   "metadata": {},
   "outputs": [],
   "source": [
    "#Informação 6. Quantidade de casos positivos no Paraná nos últimos 40 segudnos e atualização a cada 20 segundos\n",
    "result = DStream.filter(lambda linha: linha.split(';')[15]=='PARANÁ' and\n",
    " linha.split(';')[11]=='Positivo')\\\n",
    ".countByWindow(40, 20)"
   ]
  },
  {
   "cell_type": "code",
   "execution_count": null,
   "metadata": {},
   "outputs": [],
   "source": [
    "#Informação 15. Idade das mulheres positivas para covid\n",
    "result = DStream.filter(lambda linha: linha.split(\";\")[11]==\"Positivo\" and\n",
    "linha.split(\";\")[13]==\"Feminino\")\\\n",
    ".map(lambda linha: [(linha.split(\";\")[13], int(linha.split(\";\")[29])), 1])\\\n",
    ".reduceByKeyAndWindow(lambda valor1, valor2: valor1+valor2, 60, 30)"
   ]
  },
  {
   "cell_type": "code",
   "execution_count": null,
   "metadata": {},
   "outputs": [],
   "source": [
    "#Informação 16. Município do Paraná com a maior quantidade de mulheres positivos para covid no último minuto e atualização \n",
    "#a cada 20 segundos \n",
    "result = DStream.filter(lambda linha: linha.split(';')[15]=='PARANÁ' and\n",
    "                                 linha.split(';')[13]=='Feminino' and\n",
    "                                 linha.split(';')[11]=='Positivo')\\\n",
    "    .map(lambda linha: [linha.split(';')[17], 1])\\\n",
    "    .reduceByKeyAndWindow(lambda valor1, valor2: valor1+valor2, 60, 20)"
   ]
  },
  {
   "cell_type": "code",
   "execution_count": null,
   "metadata": {},
   "outputs": [],
   "source": [
    "#Informação 17. Dia da semana com a maior quantidade de testes realizados nos últimos dois minutos e atualização a cada 40 segundos\n",
    "from datetime import date\n",
    "dia_semana = [\n",
    " 'Segunda-Feira',\n",
    " 'Terça-Feira',\n",
    " 'Quarta-Feira',\n",
    " 'Quinta-Feira',\n",
    " 'Sexta-Feira',\n",
    " 'Sábado',\n",
    " 'Domingo'\n",
    "]\n",
    "result = DStream.filter(lambda linha: linha.split(';')[0] != 'id')\\\n",
    " .map(lambda linha: linha.split(';')[9].split('T')[0])\\\n",
    " .map(lambda t: [dia_semana[date(int(t.split('-')[0]),\n",
    " int(t.split('-')[1]),\n",
    " int(t.split('-')[2]))\\\n",
    " .weekday()\n",
    " ], 1])\\\n",
    " .reduceByKeyAndWindow(lambda v1, v2: v1+v2, 120, 40)"
   ]
  },
  {
   "cell_type": "code",
   "execution_count": null,
   "metadata": {},
   "outputs": [],
   "source": [
    "result.pprint()\n",
    "\n",
    "ssc.start()\n",
    "ssc.awaitTermination()"
   ]
  },
  {
   "cell_type": "code",
   "execution_count": null,
   "metadata": {},
   "outputs": [],
   "source": []
  }
 ],
 "metadata": {
  "kernelspec": {
   "display_name": "Python 3 (ipykernel)",
   "language": "python",
   "name": "python3"
  },
  "language_info": {
   "codemirror_mode": {
    "name": "ipython",
    "version": 3
   },
   "file_extension": ".py",
   "mimetype": "text/x-python",
   "name": "python",
   "nbconvert_exporter": "python",
   "pygments_lexer": "ipython3",
   "version": "3.9.7"
  }
 },
 "nbformat": 4,
 "nbformat_minor": 4
}
